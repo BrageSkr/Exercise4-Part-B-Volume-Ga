{
 "cells": [
  {
   "cell_type": "code",
   "execution_count": 31,
   "id": "f5d40cfc",
   "metadata": {},
   "outputs": [
    {
     "name": "stdout",
     "output_type": "stream",
     "text": [
      "Maximum generations reached. Best Solution: [988, 416, 987] Cost per m^3: 0.12156003757347543\n"
     ]
    },
    {
     "data": {
      "image/png": "[encoded data removed]",
      "text/plain": [
       "<Figure size 432x288 with 1 Axes>"
      ]
     },
     "metadata": {
      "needs_background": "light"
     },
     "output_type": "display_data"
    }
   ],
   "source": [
    "import numpy as np\n",
    "import random \n",
    "import string\n",
    "import matplotlib.pyplot as plt\n",
    "\n",
    "# Parameters\n",
    "population_size = 5\n",
    "mutation_rate = 0.1\n",
    "crossover_rate = 0.8\n",
    "max_generations = 200\n",
    "fitness_history = []\n",
    "cost_values_history= []\n",
    "nMin= 1\n",
    "nMax= 1000\n",
    "\n",
    "# Function to generate random dimensions for x, y, z\n",
    "def generate_random_xyz():\n",
    "    return [random.randint(nMin, nMax) for _ in range(3)]\n",
    "\n",
    "# Function to generate initial population\n",
    "def generate_initial_population(population_size):\n",
    "    return [generate_random_xyz() for _ in range(population_size)]\n",
    "\n",
    "# Function to calculate cost per m^3\n",
    "def calculate_cost(dimensions):\n",
    "    x, y, z = dimensions\n",
    "    volume = x * y * z\n",
    "    cost_per_m3 = calculate_cost_function(dimensions) / volume\n",
    "    return cost_per_m3\n",
    "#Price definition \n",
    "def calculate_cost_function(dimensions):\n",
    "    x, y, z = dimensions\n",
    "    side = (x*y)*4*25\n",
    "    top= (y*z)*2*10\n",
    "    return (side+top)\n",
    "\n",
    "# Function for selection based on roulette wheel selection\n",
    "def select_parents(population, fitness_values):\n",
    "    total_fitness = sum(fitness_values)\n",
    "    probabilities = [fitness / total_fitness for fitness in fitness_values]\n",
    "    selected_parents = random.choices(population, weights=None, k=2)\n",
    "    return selected_parents\n",
    "\n",
    "# Function for single-point crossover\n",
    "def crossover(parent1, parent2):\n",
    "    crossover_point = random.randint(0, len(parent1))\n",
    "    child1 = parent1[:crossover_point] + parent2[crossover_point:]\n",
    "    child2 = parent2[:crossover_point] + parent1[crossover_point:]\n",
    "    return child1, child2\n",
    "\n",
    "# Function for mutation\n",
    "def mutate(individual, mutation_rate):\n",
    "    mutated_individual = [mutate_dimension(dim, mutation_rate) for dim in individual]\n",
    "    return mutated_individual\n",
    "\n",
    "# Function to mutate a single dimension\n",
    "def mutate_dimension(dim, mutation_rate):\n",
    "    if random.random() < mutation_rate:\n",
    "        return random.randint(nMin, nMax)  \n",
    "    return dim\n",
    "\n",
    "# Main function to run the Genetic Algorithm\n",
    "def genetic_algorithm():\n",
    "    population = generate_initial_population(population_size)\n",
    "    best_solution = None\n",
    "    best_cost = float('inf')\n",
    "\n",
    "    for generation in range(max_generations):\n",
    "        # Calculate cost per m^3 for each individual\n",
    "        cost_values = [calculate_cost(individual) for individual in population]\n",
    "        cost_values_history.append(min(cost_values))\n",
    "        fitness_values = [1 / cost for cost in cost_values]  \n",
    "        fitness_history.append(min(fitness_values))\n",
    "        \n",
    "        # Check for best fit solution\n",
    "        current_best_cost = min(cost_values)\n",
    "        if current_best_cost < best_cost:\n",
    "            best_cost = current_best_cost\n",
    "            best_solution = population[cost_values.index(current_best_cost)]\n",
    "\n",
    "        # Selection, Crossover, and Mutation\n",
    "        new_population = [best_solution] \n",
    "        for _ in range((population_size - 1) // 2):\n",
    "            parent1, parent2 = select_parents(population, fitness_values)\n",
    "            child1, child2 = parent1, parent2 \n",
    "            if random.random() < crossover_rate:\n",
    "                child1, child2 = crossover(parent1, parent2)\n",
    "            child1 = mutate(child1, mutation_rate)\n",
    "            child2 = mutate(child2, mutation_rate)\n",
    "            new_population.extend([child1, child2])\n",
    "\n",
    "        # Replacement\n",
    "        population = new_population\n",
    "\n",
    "    else:\n",
    "        print(\"Maximum generations reached. Best Solution:\", best_solution, \"Cost per m^3:\", best_cost)\n",
    "\n",
    "    plt.plot(cost_values_history, label='Cost')\n",
    "    plt.xlabel('Generation')\n",
    "    plt.ylabel('Cost/m3')\n",
    "    plt.title('Development of Cost')\n",
    "    plt.legend()\n",
    "    plt.show()\n",
    "    \n",
    "if __name__ == \"__main__\":\n",
    "    genetic_algorithm()"
   ]
  },
  {
   "cell_type": "code",
   "execution_count": null,
   "id": "df5a1f9d",
   "metadata": {},
   "outputs": [],
   "source": []
  },
  {
   "cell_type": "code",
   "execution_count": null,
   "id": "03c571fc",
   "metadata": {},
   "outputs": [],
   "source": []
  }
 ],
 "metadata": {
  "kernelspec": {
   "display_name": "Python 3 (ipykernel)",
   "language": "python",
   "name": "python3"
  },
  "language_info": {
   "codemirror_mode": {
    "name": "ipython",
    "version": 3
   },
   "file_extension": ".py",
   "mimetype": "text/x-python",
   "name": "python",
   "nbconvert_exporter": "python",
   "pygments_lexer": "ipython3",
   "version": "3.9.12"
  }
 },
 "nbformat": 4,
 "nbformat_minor": 5
}
